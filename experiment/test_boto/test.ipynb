{
 "cells": [
  {
   "cell_type": "code",
   "execution_count": 4,
   "metadata": {},
   "outputs": [],
   "source": [
    "import boto3\n",
    "import pickle\n",
    "import streamlit as st\n"
   ]
  },
  {
   "cell_type": "code",
   "execution_count": 7,
   "metadata": {},
   "outputs": [],
   "source": [
    "s3 = boto3.client('s3')\n",
    "bucket = 'rafaelk-credit-risk-model'\n",
    "key = 'artefacts/model1.pkl'\n",
    "\n",
    "try:\n",
    "    response = s3.get_object(Bucket=bucket, Key=key)\n",
    "    artefact = response['Body'].read()#.decode('utf-8')\n",
    "    model = pickle.loads(artefact)\n",
    "    \n",
    "except Exception as e:\n",
    "    print(f\"Error reading artifact: {e}\")"
   ]
  },
  {
   "cell_type": "code",
   "execution_count": 10,
   "metadata": {},
   "outputs": [
    {
     "data": {
      "text/plain": [
       "['RevolvingUtilizationOfUnsecuredLines',\n",
       " 'age',\n",
       " 'NumberOfTime30-59DaysPastDueNotWorse',\n",
       " 'DebtRatio',\n",
       " 'MonthlyIncome',\n",
       " 'NumberOfOpenCreditLinesAndLoans',\n",
       " 'NumberOfTimes90DaysLate',\n",
       " 'NumberRealEstateLoansOrLines',\n",
       " 'NumberOfTime60-89DaysPastDueNotWorse',\n",
       " 'NumberOfDependents',\n",
       " 'RevolvingUtilizationOfUnsecuredLines_trunc',\n",
       " 'nonsecure_credit_usage_Q1',\n",
       " 'nonsecure_credit_usage_Q2',\n",
       " 'nonsecure_credit_usage_Q4',\n",
       " 'age_decade_20s',\n",
       " 'age_decade_30s',\n",
       " 'age_decade_40s',\n",
       " 'age_decade_60s',\n",
       " 'age_decade_>70s',\n",
       " 'income_omission',\n",
       " 'income_Q1',\n",
       " 'income_Q2',\n",
       " 'income_Q4',\n",
       " 'NumberOfTime30-59DaysPastDueNotWorse_dummy',\n",
       " 'number_past_default_more_than_once',\n",
       " 'number_past_default_once',\n",
       " 'gravest_default_def60~89',\n",
       " 'gravest_default_def<30',\n",
       " 'gravest_default_def>90']"
      ]
     },
     "execution_count": 10,
     "metadata": {},
     "output_type": "execute_result"
    }
   ],
   "source": [
    "list(model.feature_names_in_)"
   ]
  }
 ],
 "metadata": {
  "kernelspec": {
   "display_name": "Python 3",
   "language": "python",
   "name": "python3"
  },
  "language_info": {
   "codemirror_mode": {
    "name": "ipython",
    "version": 3
   },
   "file_extension": ".py",
   "mimetype": "text/x-python",
   "name": "python",
   "nbconvert_exporter": "python",
   "pygments_lexer": "ipython3",
   "version": "3.11.5"
  },
  "orig_nbformat": 4
 },
 "nbformat": 4,
 "nbformat_minor": 2
}
